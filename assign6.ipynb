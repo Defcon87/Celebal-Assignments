{
 "cells": [
  {
   "cell_type": "code",
   "execution_count": 4,
   "id": "5160a47f",
   "metadata": {},
   "outputs": [
    {
     "name": "stdout",
     "output_type": "stream",
     "text": [
      "Original shape: (80000, 12)\n",
      "Processed shape: (80000, 66)\n"
     ]
    }
   ],
   "source": [
    "import pandas as pd\n",
    "import numpy as np\n",
    "from sklearn.model_selection import train_test_split\n",
    "from sklearn.preprocessing import StandardScaler, OneHotEncoder\n",
    "from sklearn.impute import SimpleImputer\n",
    "from sklearn.compose import ColumnTransformer\n",
    "from sklearn.pipeline import Pipeline\n",
    "\n",
    "\n",
    "n_samples = 100000\n",
    "n_features = 10\n",
    "\n",
    "np.random.seed(0)\n",
    "numerical_data = np.random.randn(n_samples, n_features)\n",
    "\n",
    "categories = ['A', 'B', 'C', 'D']\n",
    "categorical_data = np.random.choice(categories, size=(n_samples, 3))\n",
    "\n",
    "df = pd.DataFrame(numerical_data, columns=[f'num_feature_{i}' for i in range(n_features)])\n",
    "for i in range(3):\n",
    "    df[f'cat_feature_{i}'] = categorical_data[:, i]\n",
    "\n",
    "nan_indices = np.random.choice(df.index, size=5000, replace=False)\n",
    "df.loc[nan_indices, 'num_feature_0'] = np.nan\n",
    "\n",
    "X = df.drop(columns=['num_feature_0'])  \n",
    "y = df['num_feature_0']\n",
    "\n",
    "X_train, X_test, y_train, y_test = train_test_split(X, y, test_size=0.2, random_state=0)\n",
    "\n",
    "numerical_features = [f'num_feature_{i}' for i in range(1, n_features)]\n",
    "categorical_features = [f'cat_feature_{i}' for i in range(3)]\n",
    "\n",
    "numerical_pipeline = Pipeline([\n",
    "    ('imputer', SimpleImputer(strategy='mean')),\n",
    "    ('scaler', StandardScaler())\n",
    "])\n",
    "\n",
    "categorical_pipeline = Pipeline([\n",
    "    ('imputer', SimpleImputer(strategy='most_frequent')),\n",
    "    ('onehot', OneHotEncoder(handle_unknown='ignore'))\n",
    "])\n",
    "\n",
    "preprocessor = ColumnTransformer([\n",
    "    ('num', numerical_pipeline, numerical_features),\n",
    "    ('cat', categorical_pipeline, categorical_features)\n",
    "])\n",
    "\n",
    "from sklearn.preprocessing import PolynomialFeatures\n",
    "\n",
    "poly_features = PolynomialFeatures(degree=2, include_bias=False)\n",
    "\n",
    "preprocessor = ColumnTransformer([\n",
    "    ('num', Pipeline([\n",
    "        ('imputer', SimpleImputer(strategy='mean')),\n",
    "        ('scaler', StandardScaler()),\n",
    "        ('poly', poly_features)\n",
    "    ]), numerical_features),\n",
    "    ('cat', categorical_pipeline, categorical_features)\n",
    "])\n",
    "\n",
    "X_train_processed = preprocessor.fit_transform(X_train)\n",
    "X_test_processed = preprocessor.transform(X_test)\n",
    "\n",
    "print(f'Original shape: {X_train.shape}')\n",
    "print(f'Processed shape: {X_train_processed.shape}')\n"
   ]
  },
  {
   "cell_type": "code",
   "execution_count": null,
   "id": "c4db793c",
   "metadata": {},
   "outputs": [],
   "source": []
  }
 ],
 "metadata": {
  "kernelspec": {
   "display_name": "Python 3 (ipykernel)",
   "language": "python",
   "name": "python3"
  },
  "language_info": {
   "codemirror_mode": {
    "name": "ipython",
    "version": 3
   },
   "file_extension": ".py",
   "mimetype": "text/x-python",
   "name": "python",
   "nbconvert_exporter": "python",
   "pygments_lexer": "ipython3",
   "version": "3.11.5"
  }
 },
 "nbformat": 4,
 "nbformat_minor": 5
}
