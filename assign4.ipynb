{
 "cells": [
  {
   "cell_type": "code",
   "execution_count": 2,
   "id": "1db24957",
   "metadata": {},
   "outputs": [
    {
     "name": "stdout",
     "output_type": "stream",
     "text": [
      "Original Data:\n",
      "   feature1 feature2  feature3  target\n",
      "0        51        B  0.127012       1\n",
      "1        92        A -1.249444       0\n",
      "2        14        A  1.945116       1\n",
      "3        71        A -0.153336       0\n",
      "4        60        A -0.906987       0\n",
      "\n",
      "Processed Training Data:\n",
      "   feature1  feature3  x0_A  x0_B  x0_C\n",
      "0 -1.375882  0.266630   0.0   1.0   0.0\n",
      "1 -0.065918 -0.233911   0.0   0.0   1.0\n",
      "2  0.269970 -0.304771   1.0   0.0   0.0\n",
      "3  0.169204 -0.615359   0.0   0.0   1.0\n",
      "4 -0.468984  1.029852   1.0   0.0   0.0\n",
      "\n",
      "Processed Test Data:\n",
      "   feature1  feature3  x0_A  x0_B  x0_C\n",
      "0  0.807391  0.043901   0.0   1.0   0.0\n",
      "1  0.337148 -0.602139   0.0   0.0   1.0\n",
      "2  0.001260 -1.048881   1.0   0.0   0.0\n",
      "3  0.034848 -2.481322   0.0   1.0   0.0\n",
      "4 -1.577415  0.315117   1.0   0.0   0.0\n"
     ]
    }
   ],
   "source": [
    "import pandas as pd\n",
    "import numpy as np\n",
    "from sklearn.model_selection import train_test_split\n",
    "from sklearn.preprocessing import StandardScaler, OneHotEncoder\n",
    "from sklearn.impute import SimpleImputer\n",
    "from sklearn.compose import ColumnTransformer\n",
    "from sklearn.pipeline import Pipeline\n",
    "\n",
    "np.random.seed(42)\n",
    "data = pd.DataFrame({\n",
    "    'feature1': np.random.randint(0, 100, 100),\n",
    "    'feature2': np.random.choice(['A', 'B', 'C'], 100),\n",
    "    'feature3': np.random.randn(100),\n",
    "    'target': np.random.randint(0, 2, 100)\n",
    "})\n",
    "\n",
    "print(\"Original Data:\")\n",
    "print(data.head())\n",
    "\n",
    "X = data.drop('target', axis=1)\n",
    "y = data['target']\n",
    "X_train, X_test, y_train, y_test = train_test_split(X, y, test_size=0.2, random_state=42)\n",
    "\n",
    "numeric_features = ['feature1', 'feature3']\n",
    "numeric_transformer = Pipeline(steps=[\n",
    "    ('imputer', SimpleImputer(strategy='mean')),\n",
    "    ('scaler', StandardScaler())\n",
    "])\n",
    "\n",
    "categorical_features = ['feature2']\n",
    "categorical_transformer = Pipeline(steps=[\n",
    "    ('imputer', SimpleImputer(strategy='most_frequent')),\n",
    "    ('onehot', OneHotEncoder(handle_unknown='ignore'))\n",
    "])\n",
    "\n",
    "preprocessor = ColumnTransformer(\n",
    "    transformers=[\n",
    "        ('num', numeric_transformer, numeric_features),\n",
    "        ('cat', categorical_transformer, categorical_features)\n",
    "    ])\n",
    "\n",
    "X_train_processed = preprocessor.fit_transform(X_train)\n",
    "X_test_processed = preprocessor.transform(X_test)\n",
    "\n",
    "X_train_df = pd.DataFrame(X_train_processed, columns=(numeric_features + list(preprocessor.named_transformers_['cat']['onehot'].get_feature_names_out())))\n",
    "X_test_df = pd.DataFrame(X_test_processed, columns=(numeric_features + list(preprocessor.named_transformers_['cat']['onehot'].get_feature_names_out())))\n",
    "\n",
    "print(\"\\nProcessed Training Data:\")\n",
    "print(X_train_df.head())\n",
    "\n",
    "print(\"\\nProcessed Test Data:\")\n",
    "print(X_test_df.head())\n"
   ]
  },
  {
   "cell_type": "code",
   "execution_count": null,
   "id": "311271b2",
   "metadata": {},
   "outputs": [],
   "source": []
  }
 ],
 "metadata": {
  "kernelspec": {
   "display_name": "Python 3 (ipykernel)",
   "language": "python",
   "name": "python3"
  },
  "language_info": {
   "codemirror_mode": {
    "name": "ipython",
    "version": 3
   },
   "file_extension": ".py",
   "mimetype": "text/x-python",
   "name": "python",
   "nbconvert_exporter": "python",
   "pygments_lexer": "ipython3",
   "version": "3.11.5"
  }
 },
 "nbformat": 4,
 "nbformat_minor": 5
}
